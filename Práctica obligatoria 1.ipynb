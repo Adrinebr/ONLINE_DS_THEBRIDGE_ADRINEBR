{
 "cells": [
  {
   "cell_type": "markdown",
   "id": "aa325fea-9485-4e4c-a166-bd8fd2e66292",
   "metadata": {},
   "source": [
    "#### <p style=\"color:grey\">Aptitudes de data science</p>\n",
    "\n",
    ">##### **Lo más importante**\n",
    ">- Matemáticas\n",
    ">- Python\n",
    ">- SQL\n",
    ">\n",
    ">  ![Python](./python.png)\n",
    ">\n",
    ">Otro tema importante es el *Bussiness Intelligence*\n",
    ">\n",
    ">Si tienes dudas puedes escribirme a <jaime.gonzalez@thebridgeschool.es>\n",
    ">\n",
    ">Y en esta página se aprende mucho de machine learning: [página de ML](https://www.kaggle.com/)"
   ]
  },
  {
   "cell_type": "markdown",
   "id": "1c16b45d-0d57-43e3-9223-53bd09c85bdf",
   "metadata": {
    "jp-MarkdownHeadingCollapsed": true
   },
   "source": [
    "<table> \n",
    "<tr>\n",
    "<td>Ramp Up</td>\n",
    "<td>Data Analysis</td>\n",
    "<td>Machine Learning</td>\n",
    "<td>Data & Business</td>\n",
    "<tr>\n",
    "<td>Estadística</td>\n",
    "<td>R</td>\n",
    "<td>Non supervised</td>\n",
    "<td>Storytelling</td>\n",
    "</tr>\n",
    "<td>SQL</td>\n",
    "<td>Feat. Eng.</td>\n",
    "<td>Deep Learning</td>\n",
    "<td>API</td>\n",
    "\n"
   ]
  },
  {
   "cell_type": "markdown",
   "id": "9a3dd915-07e0-4523-9c93-ab760fb4669f",
   "metadata": {},
   "source": [
    "\n"
   ]
  },
  {
   "cell_type": "code",
   "execution_count": null,
   "id": "8f074ead-5d66-4811-917c-bb868644a7e5",
   "metadata": {},
   "outputs": [],
   "source": []
  }
 ],
 "metadata": {
  "kernelspec": {
   "display_name": "Python 3 (ipykernel)",
   "language": "python",
   "name": "python3"
  },
  "language_info": {
   "codemirror_mode": {
    "name": "ipython",
    "version": 3
   },
   "file_extension": ".py",
   "mimetype": "text/x-python",
   "name": "python",
   "nbconvert_exporter": "python",
   "pygments_lexer": "ipython3",
   "version": "3.11.3"
  }
 },
 "nbformat": 4,
 "nbformat_minor": 5
}
